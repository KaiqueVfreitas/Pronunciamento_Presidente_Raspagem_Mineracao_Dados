{
 "cells": [
  {
   "cell_type": "code",
   "execution_count": 56,
   "metadata": {},
   "outputs": [],
   "source": [
    "import json\n",
    "import os\n",
    "import requests\n",
    "from bs4 import BeautifulSoup"
   ]
  },
  {
   "cell_type": "code",
   "execution_count": 57,
   "metadata": {},
   "outputs": [],
   "source": [
    "BASE_URL = \"https://www.gov.br/planalto/pt-br/acompanhe-o-planalto/pronunciamentos/pronunciamentos-do-presidente-da-republica\"\n",
    "DATA_DIR = \"pronunciamentos\""
   ]
  },
  {
   "cell_type": "code",
   "execution_count": 58,
   "metadata": {},
   "outputs": [],
   "source": [
    "response = requests.get(BASE_URL)\n",
    "bs = BeautifulSoup(response.text)"
   ]
  },
  {
   "cell_type": "code",
   "execution_count": 59,
   "metadata": {},
   "outputs": [],
   "source": [
    "# todas as tags <article/>\n",
    "articles = bs.find_all(\"article\")"
   ]
  },
  {
   "cell_type": "code",
   "execution_count": 60,
   "metadata": {},
   "outputs": [],
   "source": [
    "def canonical_date(datestr):\n",
    "  return \"\".join(reversed(datestr.split(\"/\")))"
   ]
  },
  {
   "cell_type": "code",
   "execution_count": 61,
   "metadata": {},
   "outputs": [],
   "source": [
    "class Pronouncement:\n",
    "  def __init__(self, bs_article=None):\n",
    "    \n",
    "    if bs_article is not None:\n",
    "      self.url = bs_article.find(class_=\"summary url\")[\"href\"]\n",
    "      self.tags = [t.text for t in bs_article.find_all(rel=\"tag\")] \n",
    "      \n",
    "      datetime = bs_article.find_all(class_=\"summary-view-icon\")\n",
    "      self.date = canonical_date(datetime[0].text.strip())\n",
    "      self.time =  datetime[1].text.strip()\n",
    "\n",
    "      self.text = self._extract_text()\n",
    "\n",
    "  def _extract_text(self):\n",
    "    r = requests.get(self.url)\n",
    "    bs = BeautifulSoup(r.text)\n",
    "    return bs.find(id=\"parent-fieldname-text\").text.strip()\n",
    "\n",
    "  def save_tojson(p, savedir, name=None):\n",
    "    if name is None:\n",
    "      name = f\"{p.date}-{p.time}.json\"\n",
    "    path = os.path.join(savedir, name)\n",
    "    with open(path, \"w\") as jsonfile:\n",
    "      json.dump(p.__dict__, jsonfile)\n",
    "\n",
    "  def load_fromjson(filepath):\n",
    "    with open(filepath, \"r\") as jsonfile:\n",
    "      data = json.load(jsonfile)\n",
    "      p = Pronouncement()\n",
    "      p.date = data[\"date\"]\n",
    "      p.time = data[\"time\"]\n",
    "      p.tags = data[\"tags\"]\n",
    "      p.url = data[\"url\"]\n",
    "      p.text = data[\"text\"]\n",
    "      return p"
   ]
  },
  {
   "cell_type": "code",
   "execution_count": 62,
   "metadata": {},
   "outputs": [],
   "source": [
    "pronouncements = [Pronouncement(art) for art in articles]"
   ]
  },
  {
   "cell_type": "code",
   "execution_count": 63,
   "metadata": {},
   "outputs": [],
   "source": [
    "for p in pronouncements:\n",
    "  Pronouncement.save_tojson(p, DATA_DIR)"
   ]
  },
  {
   "cell_type": "code",
   "execution_count": 64,
   "metadata": {},
   "outputs": [
    {
     "data": {
      "text/plain": [
       "0"
      ]
     },
     "execution_count": 64,
     "metadata": {},
     "output_type": "execute_result"
    }
   ],
   "source": [
    "len(pronouncements)"
   ]
  },
  {
   "cell_type": "code",
   "execution_count": 65,
   "metadata": {},
   "outputs": [],
   "source": [
    "filenames = os.listdir(DATA_DIR)"
   ]
  },
  {
   "cell_type": "code",
   "execution_count": 66,
   "metadata": {},
   "outputs": [],
   "source": [
    "pronunciamentos = []\n",
    "for name in filenames:\n",
    "  path = os.path.join(DATA_DIR, name)\n",
    "  pronunciamentos.append(Pronouncement.load_fromjson(path))"
   ]
  },
  {
   "cell_type": "code",
   "execution_count": 67,
   "metadata": {},
   "outputs": [
    {
     "data": {
      "text/plain": [
       "0"
      ]
     },
     "execution_count": 67,
     "metadata": {},
     "output_type": "execute_result"
    }
   ],
   "source": [
    "len(pronunciamentos)"
   ]
  },
  {
   "cell_type": "code",
   "execution_count": 68,
   "metadata": {},
   "outputs": [],
   "source": [
    "for i in range(len(pronunciamentos)):\n",
    "  print(pronunciamentos[i].text)\n",
    "  print(\"==========================\")"
   ]
  }
 ],
 "metadata": {
  "kernelspec": {
   "display_name": "venv",
   "language": "python",
   "name": "python3"
  },
  "language_info": {
   "codemirror_mode": {
    "name": "ipython",
    "version": 3
   },
   "file_extension": ".py",
   "mimetype": "text/x-python",
   "name": "python",
   "nbconvert_exporter": "python",
   "pygments_lexer": "ipython3",
   "version": "3.13.2"
  }
 },
 "nbformat": 4,
 "nbformat_minor": 2
}
